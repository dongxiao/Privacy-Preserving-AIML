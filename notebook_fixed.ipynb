{
 "nbformat": 4,
 "nbformat_minor": 0,
 "metadata": {
  "colab": {
   "provenance": []
  },
  "kernelspec": {
   "name": "python3",
   "display_name": "Python 3"
  },
  "language_info": {
   "name": "python"
  }
 },
 "cells": [
  {
   "cell_type": "markdown",
   "source": [
    "### 📖 Reference  \n",
    "This notebook is based on:  \n",
    "**Christof Paar and Jan Pelzl (2009). _Understanding Cryptography: A Textbook for Students and Practitioners_. Springer.**\n"
   ],
   "metadata": {
    "id": "dwRxRoxTCS2c"
   }
  },
  {
   "cell_type": "markdown",
   "source": [
    "### 📘 Definition 8.2.1 — Group  \n",
    "\n",
    "A **group** is a set $G$ with a binary operation $\\circ$ such that:  \n",
    "1. **Closure:** $a \\circ b \\in G$ for all $a,b \\in G$.  \n",
    "2. **Associativity:** $a \\circ (b \\circ c) = (a \\circ b) \\circ c$ for all $a,b,c \\in G$.  \n",
    "3. **Identity:** There exists an element $1 \\in G$, called the identity element  such that $a \\circ 1 = 1 \\circ a = a$ for all $a \\in G$.  \n",
    "4. **Inverse:** For each $a \\in G$, there exists $a^{-1} \\in G$, called the inverse of a, with $a \\circ a^{-1} = 1$.  \n",
    "5. If $a \\circ b = b \\circ a$ for all $a,b$, then $G$ is **abelian**.  \n",
    "\n",
    "### 🔑 Intuition\n",
    "\n",
    "- **Closure:** performing the group operation on any two group elements always yields another element.  \n",
    "- **Associativity:** grouping of operations doesn’t change the result.  \n",
    "- **Identity:** there exists an element that leaves everything unchanged when used in the operation.  \n",
    "- **Inverses:** every element has a counterpart that brings you back to the identity.  \n",
    "- **Abelian:** if the order of applying the operation doesn’t matter, the group is abelian.\n",
    "\n",
    "\n"
   ],
   "metadata": {
    "id": "uQHdy5sDmeHI"
   }
  },
  {
   "cell_type": "markdown",
   "source": [
    "### 📘 Theorem 8.2.1  \n",
    "\n",
    "The set  \n",
    "\n",
    "$$\n",
    "\\mathbb{Z}_n^* = \\{\\, i \\in \\{0,1,\\dots,n-1\\} \\;\\mid\\; \\gcd(i,n)=1 \\,\\}\n",
    "$$  \n",
    "\n",
    "forms an **abelian group** under multiplication modulo $n$.  \n",
    "The identity element is $1$.  \n",
    "\n",
    "---\n",
    "\n",
    "### 🔑 Intuition  \n",
    "\n",
    "The integers that are coprime to $n$ behave well under multiplication modulo $n$:  \n",
    "\n",
    "- **Closure:** the product of any two is still in $ \\mathbb{Z}_n^* $.  \n",
    "- **Associativity:** inherited from integer multiplication.  \n",
    "- **Identity:** $1$ acts as the neutral element.  \n",
    "- **Inverses:** each element has an inverse (from the extended Euclidean algorithm).  \n",
    "- **Commutativity:** multiplication modulo $n$ is commutative.  \n",
    "\n",
    "\n",
    "\n",
    "\n"
   ],
   "metadata": {
    "id": "V7P75oRKdKN3"
   }
  },
  {
   "cell_type": "code",
   "execution_count": null,
   "metadata": {
    "id": "uJP3VeHQmd6n"
   },
   "outputs": [],
   "source": [
    "def euclid(a, b):\n",
    "    if a == 0:\n",
    "        return b\n",
    "    return euclid(b % a, a)\n",
    "\n",
    "class Group:\n",
    "    def __init__(self, modulus):\n",
    "        if modulus <= 1:\n",
    "            raise ValueError(\"modulus must be > 1 for a non-empty multiplicative group.\")\n",
    "        self.modulus  = modulus\n",
    "        self.elements = set(e for e in range(1, modulus) if euclid(modulus, e) == 1)\n",
    "\n",
    "    def multiplicativeGroupOp(self, a, b):\n",
    "        # guard: only operate on group elements\n",
    "        if a not in self.elements or b not in self.elements:\n",
    "            raise ValueError(\"Operands must be elements of the group.\")\n",
    "        return (a * b) % self.modulus\n",
    "\n",
    "    def getCardinality(self):\n",
    "        return len(self.elements)\n",
    "\n",
    "    def checkClosureRule(self):\n",
    "        for a in self.elements:\n",
    "            for b in self.elements:\n",
    "                if (a * b) % self.modulus not in self.elements:\n",
    "                    return False\n",
    "        return True\n",
    "\n",
    "    def checkAssociativeRule(self):\n",
    "        op = self.multiplicativeGroupOp\n",
    "        for a in self.elements:\n",
    "            for b in self.elements:\n",
    "                for c in self.elements:\n",
    "                    if op(a, op(b, c)) != op(op(a, b), c):\n",
    "                        return False\n",
    "        return True\n",
    "\n",
    "    def checkNeutralElementRule(self):\n",
    "        e = 1\n",
    "        if e not in self.elements:\n",
    "            return False\n",
    "        for x in self.elements:\n",
    "            if self.multiplicativeGroupOp(x, e) != x: return False\n",
    "            if self.multiplicativeGroupOp(e, x) != x: return False\n",
    "        return True\n",
    "\n",
    "    def checkInverseRule(self):\n",
    "        e = 1\n",
    "        for a in self.elements:\n",
    "            has_inv = False\n",
    "            for y in self.elements:\n",
    "                if self.multiplicativeGroupOp(a, y) == e and self.multiplicativeGroupOp(y, a) == e:\n",
    "                    has_inv = True\n",
    "                    break\n",
    "            if not has_inv:\n",
    "                return False\n",
    "        return True\n",
    "\n",
    "    def checkAbelianRule(self):\n",
    "        op = self.multiplicativeGroupOp\n",
    "        for a in self.elements:\n",
    "            for b in self.elements:\n",
    "                if op(a, b) != op(b, a):\n",
    "                    return False\n",
    "        return True\n"
   ]
  },
  {
   "cell_type": "markdown",
   "source": [
    "### 🔑 Why do Inverse and Identity matter in cryptography?\n",
    "\n",
    "At the heart of cryptography is the idea of **doing math forward easily** but making it **painfully hard to reverse** unless you know a secret.\n",
    "\n",
    "Here’s the magic:  \n",
    "- The **identity element $1$** is the “reset button.”  \n",
    "- An inverse is the unique partner that brings you back to 1: $a \\cdot a^{-1} \\equiv 1 \\pmod n$.  \n",
    "- If you own the private key 🔒, the math collapses back to some simple form in just a few steps, smooth and elegant.  \n",
    "- But if you’re an attacker 🚫, finding that \"inverse\" is like brute-forcing a Rubik’s cube with billions of combinations.\n",
    "\n",
    "That’s why inverses power modern crypto:  \n",
    "\n",
    "- 🗝 **RSA**: public vs private keys are tied by modular inverses.  \n",
    "- 🔐 **Diffie–Hellman**: hides inverses inside exponentiation tricks.  \n",
    "- 🚫 Without inverses, decryption wouldn’t exist — every lock 🔒 would be one-way only.\n",
    "\n",
    "👉 In short: **inverses + identity = the secret handshake** that makes decryption possible for the good guys, but impossibly hard for hackers.  \n"
   ],
   "metadata": {
    "id": "pIQXjL39KOU3"
   }
  },
  {
   "cell_type": "markdown",
   "source": [
    "### 🧪 Let’s Experiment!\n",
    "\n",
    "Time to put the definitions into action.  \n",
    "We’ll construct $ \\mathbb{Z}_n^* $, list its elements, and check whether the group rules are satisfied.  \n"
   ],
   "metadata": {
    "id": "LOlI14nImcJB"
   }
  },
  {
   "cell_type": "code",
   "source": [
    "from IPython.display import display, Markdown\n",
    "\n",
    "def show_group_properties(n):\n",
    "    \"\"\"Create multiplicative group Z*_n and display its properties.\"\"\"\n",
    "    G = Group(n)\n",
    "\n",
    "    display(Markdown(f\"### Properties of $\\\\mathbb{{Z}}_{{{n}}}^*$\"))\n",
    "    display(Markdown(f\"- **Modulus:** {G.modulus}\"))\n",
    "    display(Markdown(f\"- **Elements:** {sorted(G.elements)}\"))\n",
    "    display(Markdown(f\"- **Order ($|\\\\mathbb{{Z}}_{{{n}}}^*|$):** {G.getCardinality()}\"))\n",
    "\n",
    "    checks = {\n",
    "        \"Closure Rule\": G.checkClosureRule(),\n",
    "        \"Associative Rule\": G.checkAssociativeRule(),\n",
    "        \"Identity Rule\": G.checkNeutralElementRule(),\n",
    "        \"Inverse Rule\": G.checkInverseRule(),\n",
    "        \"Abelian Rule\": G.checkAbelianRule()\n",
    "    }\n",
    "\n",
    "    for name, result in checks.items():\n",
    "        display(Markdown(f\"- **{name}:** {result}\"))\n",
    "\n",
    "# Example\n",
    "n = 20\n",
    "show_group_properties(n)\n"
   ],
   "metadata": {
    "colab": {
     "base_uri": "https://localhost:8080/",
     "height": 255
    },
    "id": "t7MhamhzuyQK",
    "outputId": "1079b6da-c5ed-43eb-c57b-7ce924cab724"
   },
   "execution_count": null,
   "outputs": [
    {
     "output_type": "display_data",
     "data": {
      "text/plain": [
       "<IPython.core.display.Markdown object>"
      ],
      "text/markdown": "### Properties of $\\mathbb{Z}_{20}^*$"
     },
     "metadata": {}
    },
    {
     "output_type": "display_data",
     "data": {
      "text/plain": [
       "<IPython.core.display.Markdown object>"
      ],
      "text/markdown": "- **Modulus:** 20"
     },
     "metadata": {}
    },
    {
     "output_type": "display_data",
     "data": {
      "text/plain": [
       "<IPython.core.display.Markdown object>"
      ],
      "text/markdown": "- **Elements:** [1, 3, 7, 9, 11, 13, 17, 19]"
     },
     "metadata": {}
    },
    {
     "output_type": "display_data",
     "data": {
      "text/plain": [
       "<IPython.core.display.Markdown object>"
      ],
      "text/markdown": "- **Order ($|\\mathbb{Z}_{20}^*|$):** 8"
     },
     "metadata": {}
    },
    {
     "output_type": "display_data",
     "data": {
      "text/plain": [
       "<IPython.core.display.Markdown object>"
      ],
      "text/markdown": "- **Closure Rule:** True"
     },
     "metadata": {}
    },
    {
     "output_type": "display_data",
     "data": {
      "text/plain": [
       "<IPython.core.display.Markdown object>"
      ],
      "text/markdown": "- **Associative Rule:** True"
     },
     "metadata": {}
    },
    {
     "output_type": "display_data",
     "data": {
      "text/plain": [
       "<IPython.core.display.Markdown object>"
      ],
      "text/markdown": "- **Identity Rule:** True"
     },
     "metadata": {}
    },
    {
     "output_type": "display_data",
     "data": {
      "text/plain": [
       "<IPython.core.display.Markdown object>"
      ],
      "text/markdown": "- **Inverse Rule:** True"
     },
     "metadata": {}
    },
    {
     "output_type": "display_data",
     "data": {
      "text/plain": [
       "<IPython.core.display.Markdown object>"
      ],
      "text/markdown": "- **Abelian Rule:** True"
     },
     "metadata": {}
    }
   ]
  },
  {
   "cell_type": "markdown",
   "source": [
    "### 📝 Quiz 1: Simple Proof of Inverse Uniqueness\n",
    "\n",
    "Show that the inverse of any element in a group is unique.  \n",
    "\n",
    "<details>\n",
    "<summary>✅ Click to reveal the proof</summary>\n",
    "\n",
    "1. Suppose $a \\in G$ and both $b$ and $c$ are inverses of $a$.  \n",
    "2. That means:  \n",
    "   $$ab = e \\quad \\text{and} \\quad ac = e$$  \n",
    "3. Multiply $(ab)$ by $c$ on the right:  \n",
    "   $$(ab)c = ec$$  \n",
    "4. Simplify each side using associativity and identity:  \n",
    "   $$b(ac) = c$$  \n",
    "5. Conclude that $b = c$.  \n",
    "\n",
    "Therefore, the inverse of $a$ is unique. ✅\n",
    "\n",
    "</details>\n"
   ],
   "metadata": {
    "id": "HAgWu09ghAxh"
   }
  },
  {
   "cell_type": "markdown",
   "source": [
    "### 📝 Quiz 2: Even or Odd Cardinality of $\\mathbb{Z}_n^*$\n",
    "\n",
    "Question: Is the cardinality $|\\mathbb{Z}_n^*| = \\varphi(n)$ (Euler’s totient function) even or odd?\n",
    "\n",
    "[ ] Always even  \n",
    "[ ] Always odd  \n",
    "[ ] Depends on $n$  \n",
    "\n",
    "<details>\n",
    "<summary>✅ Click to reveal the answer</summary>\n",
    "\n",
    "$\\varphi(n)$ is even for all $n > 2$.  \n",
    "Exceptions: $|\\mathbb{Z}_1^*| = 1$ and $|\\mathbb{Z}_2^*| = 1$, which are odd.\n",
    "\n",
    "</details>\n"
   ],
   "metadata": {
    "id": "OZkAVWugi_4_"
   }
  },
  {
   "cell_type": "code",
   "source": [
    "# @title\n",
    "\n",
    "import numpy as np\n",
    "import matplotlib.pyplot as plt\n",
    "from matplotlib.patches import Circle, FancyArrowPatch\n",
    "import ipywidgets as widgets\n",
    "from IPython.display import display, clear_output, Math\n",
    "\n",
    "def zstar(n):\n",
    "    return [a for a in range(1, n) if np.gcd(a, n) == 1]\n",
    "\n",
    "def inv_mod(a, n):\n",
    "    t, nt = 0, 1\n",
    "    r, nr = n, a\n",
    "    while nr:\n",
    "        q = r // nr\n",
    "        t, nt = nt, t - q*nt\n",
    "        r, nr = nr, r - q*nr\n",
    "    if r != 1:\n",
    "        raise ValueError(f\"{a} has no inverse mod {n}\")\n",
    "    return t % n\n",
    "\n",
    "def draw_smooth_self_loop(ax, x, y, *, offset=0.26, r_loop=0.18,\n",
    "                          color=\"#b22222\", loop_lw=1.8, head_size=12):\n",
    "    R = np.hypot(x, y)\n",
    "    ux, uy = x / R, y / R\n",
    "    cx, cy = x + offset * ux, y + offset * uy\n",
    "    loop = Circle((cx, cy), r_loop, fill=False, lw=loop_lw, color=color)\n",
    "    ax.add_patch(loop)\n",
    "    theta_tip = np.arctan2(y - cy, x - cx) + 0.9\n",
    "    tip  = (cx + r_loop*np.cos(theta_tip),     cy + r_loop*np.sin(theta_tip))\n",
    "    near = (cx + r_loop*np.cos(theta_tip+1e-4), cy + r_loop*np.sin(theta_tip+1e-4))\n",
    "    ax.add_patch(FancyArrowPatch(near, tip, arrowstyle='-|>', mutation_scale=head_size,\n",
    "                                 lw=0, color=color))\n",
    "\n",
    "def visualize_inverses(n):\n",
    "    elems = zstar(n)\n",
    "    k = len(elems)\n",
    "    ang = np.linspace(0, 2*np.pi, k, endpoint=False)\n",
    "    pos = {a: (np.cos(t), np.sin(t)) for a, t in zip(elems, ang)}\n",
    "    invs = {a: inv_mod(a, n) for a in elems}\n",
    "\n",
    "    fig, ax = plt.subplots(figsize=(7, 7))\n",
    "    ax.set_aspect(\"equal\"); ax.axis(\"off\")\n",
    "\n",
    "    # guide circle\n",
    "    t = np.linspace(0, 2*np.pi, 400)\n",
    "    ax.plot(np.cos(t), np.sin(t), color=\"lightgrey\", lw=0.7, alpha=0.5)\n",
    "\n",
    "    for a, (x, y) in pos.items():\n",
    "        ax.plot(x, y, \"o\", ms=9, color=\"#8ecae6\", zorder=2)\n",
    "        ax.text(1.30*x, 1.30*y, str(a), ha=\"center\", va=\"center\", fontsize=12, zorder=3)\n",
    "\n",
    "    drawn = set()\n",
    "    for a in elems:\n",
    "        b = invs[a]\n",
    "        x1, y1 = pos[a]\n",
    "        if a == b:\n",
    "            draw_smooth_self_loop(ax, x1, y1)\n",
    "            continue\n",
    "        if (b, a) in drawn:\n",
    "            continue\n",
    "        drawn.add((a, b))\n",
    "        x2, y2 = pos[b]\n",
    "        ax.add_patch(FancyArrowPatch(\n",
    "            (x1, y1), (x2, y2),\n",
    "            arrowstyle=\"<->\", mutation_scale=12,\n",
    "            lw=1.6, color=\"#b22222\"\n",
    "        ))\n",
    "\n",
    "    ax.set_xlim(-1.6, 1.6)\n",
    "    ax.set_ylim(-1.6, 1.6)\n",
    "    plt.show()\n",
    "\n",
    "# ---------- UI ----------\n",
    "top_label = widgets.HTML(\"<div style='font-size:16px'><b>Group:</b> Z*<sub>n</sub> &nbsp; (choose n)</div>\")\n",
    "n_text    = widgets.Text(value=\"13\", description=\"n =\", layout=widgets.Layout(width=\"240px\"))\n",
    "go_btn    = widgets.Button(description=\"Update\", button_style=\"primary\", layout=widgets.Layout(width=\"100px\"))\n",
    "head      = widgets.HBox([top_label, n_text, go_btn])\n",
    "out       = widgets.Output()\n",
    "\n",
    "def render(_=None):\n",
    "    with out:\n",
    "        clear_output(wait=True)\n",
    "        try:\n",
    "            n = int(n_text.value)\n",
    "            if n < 3:\n",
    "                display(Math(r\"\\text{Please choose } n\\ge 3.\"))\n",
    "                return\n",
    "            elems = zstar(n)\n",
    "            elems_tex = r\",\\, \".join(map(str, elems))\n",
    "\n",
    "            # Clean LaTeX display\n",
    "            display(Math(rf\"\\mathbb{{Z}}_{{{n}}}^{{\\ast}}=\\{{{elems_tex}\\}}\"))\n",
    "            display(Math(rf\"|\\mathbb{{Z}}_{{{n}}}^{{\\ast}}|=\\varphi({n})={len(elems)}\"))\n",
    "\n",
    "            visualize_inverses(n)\n",
    "        except Exception as e:\n",
    "            display(Math(rf\"\\text{{Error: }} {str(e)}\"))\n",
    "\n",
    "go_btn.on_click(render)\n",
    "display(head)\n",
    "render()\n",
    "display(out)\n"
   ],
   "metadata": {
    "colab": {
     "base_uri": "https://localhost:8080/",
     "height": 656,
     "referenced_widgets": [
      "4bcb56cc4fd2411bad60a6c933e67b75",
      "0142d4f53db048dc9de6382f4be81500",
      "36349038b879409e97dc4f6fbf6a94c1",
      "33a687b03dd741198db98405b2ccbdf3",
      "37bfc935c1464ffab849ddfddde3ec6f",
      "76ff44ac13cd45e4ab41b2895308d33e",
      "e4fafdeb97a8464bb79b3258a37296a6",
      "191b7250b3e74085b8816186cc3f73a6",
      "212fa8821f294bf6a154c6e3c1e0f77d",
      "1ee9b6d5f79f4015bd4f2b529f18e3a6",
      "a6f252aacadc46a59910d61ba9769605",
      "d1b8cf401f5d4ff4ad4bd48b10294a66",
      "6e7677bf901d45c198f64bc15245889f"
     ]
    },
    "cellView": "form",
    "id": "xsayuKpv_k5x",
    "outputId": "57be0f67-a5d4-4283-a788-da214b88cba1"
   },
   "execution_count": null,
   "outputs": [
    {
     "output_type": "display_data",
     "data": {
      "text/plain": [
       "HBox(children=(HTML(value=\"<div style='font-size:16px'><b>Group:</b> Z*<sub>n</sub> &nbsp; (choose n)</div>\"),…"
      ],
      "application/vnd.jupyter.widget-view+json": {
       "version_major": 2,
       "version_minor": 0,
       "model_id": "4bcb56cc4fd2411bad60a6c933e67b75"
      }
     },
     "metadata": {}
    },
    {
     "output_type": "display_data",
     "data": {
      "text/plain": [
       "Output()"
      ],
      "application/vnd.jupyter.widget-view+json": {
       "version_major": 2,
       "version_minor": 0,
       "model_id": "d1b8cf401f5d4ff4ad4bd48b10294a66"
      }
     },
     "metadata": {}
    }
   ]
  },
  {
   "cell_type": "markdown",
   "source": [
    "<details>\n",
    "<summary><b>✅ Click to reveal the answer</b></summary>\n",
    "\n",
    "<br>\n",
    "\n",
    "**Proof.**\n",
    "\n",
    "Let $a \\in \\mathbb{Z}_n^*$ and $a^{-1}$ be its inverse, so  \n",
    "\n",
    "$$\n",
    "a \\cdot a^{-1} \\equiv 1 \\pmod{n}.\n",
    "$$\n",
    "\n",
    "Multiply both factors by $-1$:  \n",
    "\n",
    "$$\n",
    "(-a) \\cdot (-a^{-1}) = a \\cdot a^{-1} \\equiv 1 \\pmod{n}.\n",
    "$$\n",
    "\n",
    "Hence the inverse of $-a$ is $-a^{-1}$ (mod $n$).  \n",
    "Since $-x \\equiv n - x \\pmod{n}$, we get  \n",
    "\n",
    "$$\n",
    "(n - a)(n - a^{-1}) \\equiv 1 \\pmod{n}.\n",
    "$$\n",
    "\n",
    "Therefore,  \n",
    "\n",
    "$$\n",
    "a \\leftrightarrow a^{-1}\n",
    "\\;\\Longrightarrow\\;\n",
    "(n - a) \\leftrightarrow (n - a^{-1}),\n",
    "$$\n",
    "\n",
    "as desired.\n",
    "\n",
    "</details>\n"
   ],
   "metadata": {
    "id": "ODKpARcD6ORy"
   }
  },
  {
   "cell_type": "markdown",
   "source": [
    "### 📘 Definition 8.2.2 — Finite Group  \n",
    "\n",
    "A group $ (G, \\circ) $ is called **finite** if it has only finitely many elements.  \n",
    "The number of elements in $ G $ is called the **cardinality** or **order** of the group and is written as $ |G| $.  \n",
    "\n",
    "---\n",
    "\n",
    "### 🔑 Intuition  \n",
    "A finite group is just a group with a limited number of elements.  \n",
    "Its size $ |G| $ is an important quantity, since many theorems (like Lagrange’s) directly relate subgroup sizes to $ |G| $.\n",
    "\n"
   ],
   "metadata": {
    "id": "HJGchrnRlrps"
   }
  },
  {
   "cell_type": "markdown",
   "source": [
    "### 📘 Definition 8.2.3 — Order of an Element  \n",
    "\n",
    "Let $ (G,\\circ) $ be a group and let $ a \\in G $.  \n",
    "The **order** of $ a $ is the smallest positive integer $ k $ such that  \n",
    "\n",
    "$$\n",
    "a^{k} = 1\n",
    "$$  \n",
    "\n",
    "(where $1$ is the identity element of $ G $).  \n",
    "\n",
    "If no such $ k $ exists, then $ a $ has **infinite order**.  \n",
    "\n",
    "---\n",
    "\n",
    "🔑 **Intuition (concise):**  \n",
    "The order of $a$ is the number of times the group operation must be applied to $a$ with itself until it becomes the identity element.\n",
    "\n",
    "\n"
   ],
   "metadata": {
    "id": "17N6xUu-qv9l"
   }
  },
  {
   "cell_type": "markdown",
   "source": [
    "### 🧮 Example 8.5 — Order of an Element in $ \\mathbb{Z}_{11}^* $\n",
    "\n",
    "We try to determine the order of $a=3$ in the group $ \\mathbb{Z}_{11}^* $.  \n",
    "Compute successive powers until we reach the identity $1$:\n",
    "\n",
    "$$\n",
    "\\begin{aligned}\n",
    "a^1 &= 3,\\\\\n",
    "a^2 &= a\\cdot a = 3\\cdot 3 = 9,\\\\\n",
    "a^3 &= a^2\\cdot a = 9\\cdot 3 = 27 \\equiv 5 \\pmod{11},\\\\\n",
    "a^4 &= a^3\\cdot a = 5\\cdot 3 = 15 \\equiv 4 \\pmod{11},\\\\\n",
    "a^5 &= a^4\\cdot a = 4\\cdot 3 = 12 \\equiv 1 \\pmod{11}.\n",
    "\\end{aligned}\n",
    "$$\n",
    "\n",
    "From the last line we conclude $ \\operatorname{ord}(3)=5 $.\n"
   ],
   "metadata": {
    "id": "R_A6JFXwpwCx"
   }
  },
  {
   "cell_type": "markdown",
   "source": [
    "### 📝 Quiz: Implement the Order Function\n",
    "\n",
    "Implement a function `getOrder(a, n)` that returns the order of element $a$ in $\\mathbb{Z}_n^*$.  \n",
    "If $a \\notin \\mathbb{Z}_n^*$, return `\"Not an element.\"`."
   ],
   "metadata": {
    "id": "MTlq2YZ3z_84"
   }
  },
  {
   "cell_type": "code",
   "source": [
    "def getOrder(a, n):\n",
    "    g = Group(n)\n",
    "    if a % n not in g.elements:\n",
    "        return \"Not an element.\"\n",
    "    # *** Your code here ***\n",
    "    # Hints:\n",
    "    # - Use g.multiplicativeGroupOp(x, y) for the group operation\n",
    "    # - The identity is 1\n",
    "    # - Start from accumulator = 1 and keep multiplying by a (mod n)\n",
    "    # - The order is the smallest k >= 1 such that accumulator == 1\n"
   ],
   "metadata": {
    "id": "yLicwhkwZy9E"
   },
   "execution_count": null,
   "outputs": []
  },
  {
   "cell_type": "markdown",
   "source": [
    "<details>\n",
    "<summary>✅ Click to reveal the solution</summary>\n",
    "\n",
    "```python\n",
    "def getOrder(a, n):\n",
    "    g = Group(n)\n",
    "    a = a % n\n",
    "    if a not in g.elements:\n",
    "        return \"Not an element.\"\n",
    "    k = 0\n",
    "    acc = 1\n",
    "    # Order must divide |G|; loop is safe up to |G|\n",
    "    for _ in range(1, g.getCardinality() + 1):\n",
    "        acc = g.multiplicativeGroupOp(acc, a)\n",
    "        k += 1\n",
    "        if acc == 1:\n",
    "            return k\n",
    "    # Should never happen for a in the group, but guard anyway\n",
    "    return None\n",
    "\n",
    "# Quick checks\n",
    "print(getOrder(2, 11))  # 10  (generator in Z*_11)\n",
    "print(getOrder(10, 11)) # 2\n",
    "print(getOrder(4, 11))  # 5\n",
    "print(getOrder(6, 11))  # 10\n",
    "print(getOrder(0, 11))  # \"Not an element.\"\n"
   ],
   "metadata": {
    "id": "BhBNkEM-1eW7"
   }
  },
  {
   "cell_type": "markdown",
   "source": [
    "### 🔒 How Large Should the Order Be for Security?  \n",
    "\n",
    "In cryptography, the *order* of the chosen element (generator) must be extremely large to resist attacks:  \n",
    "\n",
    "- For classical security:  \n",
    "  - Groups of order around $2^{2048}$ (≈ 600 decimal digits) are recommended today.  \n",
    "  - This corresponds to primes $p$ of about 2048 bits in Diffie–Hellman.  \n",
    "\n",
    "- For elliptic curve cryptography (ECC):  \n",
    "  - Much smaller groups (≈ $2^{256}$ elements) are enough, since the discrete log problem is harder on elliptic curves.  \n",
    "\n",
    "- Why so large?  \n",
    "  - The best known attacks on discrete logarithms run in **sub-exponential time** for $ \\mathbb{Z}_p^* $.  \n",
    "  - If the order is too small (say, $10^6$ or even $10^{12}$), attackers could brute-force or use index calculus methods in practical time.  \n",
    "\n",
    "✅ **Takeaway:**  \n",
    "For modern security, we need group elements whose order is astronomically large — typically hundreds of digits. This ensures that cycling back to the identity takes longer than the age of the universe with current computers.\n"
   ],
   "metadata": {
    "id": "l70TWEI3uqBS"
   }
  },
  {
   "cell_type": "markdown",
   "source": [
    "### 📖 Definition 8.2.4 — Cyclic Group\n",
    "\n",
    "A group $G$ which contains an element $\\alpha$ with maximum order  \n",
    "\n",
    "$$\n",
    "\\operatorname{ord}(\\alpha) = |G|\n",
    "$$\n",
    "\n",
    "is said to be **cyclic**.  \n",
    "Elements with maximum order are called **primitive elements** or **generators**.\n",
    "\n",
    "---\n",
    "\n",
    "#### 📘 Example 8.6: A Primitive Element in $\\mathbb{Z}_{11}^*$\n",
    "\n",
    "Consider the group:\n",
    "\n",
    "$$\n",
    "\\mathbb{Z}_{11}^* = \\{1,2,3,4,5,6,7,8,9,10\\},\n",
    "\\quad |\\mathbb{Z}_{11}^*| = 10\n",
    "$$\n",
    "\n",
    "Check whether $a = 2$ is a generator:\n",
    "\n",
    "$$\n",
    "\\begin{aligned}\n",
    "2^1 &\\equiv 2 \\pmod{11}, \\\\\n",
    "2^2 &\\equiv 4 \\pmod{11}, \\\\\n",
    "2^3 &\\equiv 8 \\pmod{11}, \\\\\n",
    "2^4 &\\equiv 5 \\pmod{11}, \\\\\n",
    "2^5 &\\equiv 10 \\pmod{11}, \\\\\n",
    "2^6 &\\equiv 9 \\pmod{11}, \\\\\n",
    "2^7 &\\equiv 7 \\pmod{11}, \\\\\n",
    "2^8 &\\equiv 3 \\pmod{11}, \\\\\n",
    "2^9 &\\equiv 6 \\pmod{11}, \\\\\n",
    "2^{10} &\\equiv 1 \\pmod{11}.\n",
    "\\end{aligned}\n",
    "$$\n",
    "\n",
    "Since $\\operatorname{ord}(2) = 10 = |\\mathbb{Z}_{11}^*|$,  \n",
    "the element $2$ is a **primitive element** and $\\mathbb{Z}_{11}^*$ is **cyclic**, generated by $2$.\n"
   ],
   "metadata": {
    "id": "ENwB_PyPwEv5"
   }
  },
  {
   "cell_type": "markdown",
   "source": [
    "### 📝 Quiz: Implement the Cyclic Group Check\n",
    "\n",
    "Implement a method `isCyclic(self)` for the `Group` class that checks whether  \n",
    "$\\mathbb{Z}_n^*$ is cyclic.  \n",
    "The function should return `True` if there exists an element whose order equals  \n",
    "the group’s cardinality, and `False` otherwise.  "
   ],
   "metadata": {
    "id": "ujAyxoO9XYTW"
   }
  },
  {
   "cell_type": "code",
   "source": [
    "# Add/override this method for the Group class.\n",
    "def isCyclic(self):\n",
    "    # *** Your code here ***\n",
    "    # Hints:\n",
    "    # - Let m = self.getCardinality()\n",
    "    # - For each a in self.elements, compute the order of a\n",
    "    # - If any has order == m, return True; else return False\n",
    "    raise NotImplementedError\n",
    "\n",
    "# Bind stub to the class so students can run tests after implementing.\n",
    "Group.isCyclic = isCyclic\n"
   ],
   "metadata": {
    "id": "QCyS4OnmYC-W"
   },
   "execution_count": null,
   "outputs": []
  },
  {
   "cell_type": "markdown",
   "source": [
    "<details>\n",
    "<summary>✅ Click to reveal the solution</summary>\n",
    "\n",
    "```python\n",
    "def isCyclic(self):\n",
    "    m = self.getCardinality()\n",
    "    for a in self.elements:\n",
    "        if getOrder(a, self.modulus) == m:\n",
    "            return True\n",
    "    return False\n",
    "\n",
    "# Attach to Group\n",
    "Group.isCyclic = isCyclic\n",
    "\n",
    "# ✅ Test cases\n",
    "print(Group(11).isCyclic())  # True (Z*_11 is cyclic)\n",
    "print(Group(8).isCyclic())   # False (Z*_8 is not cyclic)\n",
    "print(Group(9).isCyclic())   # True (Z*_9 is cyclic)\n"
   ],
   "metadata": {
    "id": "BgqkDwHmYQtI"
   }
  },
  {
   "cell_type": "markdown",
   "source": [
    "## 🔥 Wrapping Up: Why Group Theory Rules Modern Cryptography\n",
    "\n",
    "1️⃣ **Fast Keys, Fast Encryption, Fast Decryption**  \n",
    "We want cryptosystems like **ElGamal** or **Diffie–Hellman** to be lightning fast ⚡ —  that means generating keys quickly, encrypting quickly, and decrypting without melting your laptop.  \n",
    "Group theory gives us a mathematical playground where all these operations behave nicely and predictably.\n",
    "\n",
    "---\n",
    "\n",
    "2️⃣ **💀 Beat the Hackers**  \n",
    "Hackers hate math (well, most of them 😎).  \n",
    "Our goal is to make the “reverse” problem — the **discrete logarithm** — so hard  \n",
    "that even the fastest computer in the universe can’t crack it before the Sun burns out.  \n",
    "That’s why we carefully choose **groups** where it’s easy to go forward (`g^x mod p`)  \n",
    "but nearly impossible to go backward (find `x`).\n",
    "\n",
    "---\n",
    "\n",
    "3️⃣ **🎯 The Secret Sauce — Subgroups and Orders**  \n",
    "Every cyclic group hides little “sub-worlds” called **subgroups**.  \n",
    "Finding a *primitive element* (a generator) for the *whole* group might take effort,  \n",
    "but sometimes we only need a **large prime-order subgroup** — still huge enough to defeat hackers, and much faster to compute with.  \n",
    "That’s how ElGamal and Diffie–Hellman stay both *secure* and *efficient*.\n",
    "\n",
    "---\n",
    "\n",
    "4️⃣ **🌌 X25519 — The Curve that Protects the Internet**  \n",
    "Modern browsers use an elliptic curve called **X25519** for key exchange.  \n",
    "Like the number group $ \\mathbb{Z}_p^* $, the points on **X25519** form a **finite cyclic group** — there’s a generator point, and every other point on the curve can be reached by repeatedly “adding” it to itself. Its group has about **2²⁵⁶ ≈ 1.16 × 10⁷⁷** possible elements 🤯  \n",
    "Compare that to the number of atoms in the observable universe — roughly **10⁸⁰**.  \n",
    "Basically, brute-forcing is physically impossible in practice.\n",
    "\n",
    "---\n",
    "\n",
    "💡 **Takeaway:**  \n",
    "All this wizardry — from ElGamal to your browser’s HTTPS padlock 🔒 comes down to understanding the *rhythm of groups*: identity, inverses, orders, and generators, subgroups etc.\n",
    "Mathematics isn’t just abstract — it’s literally what keeps our internet safe!\n",
    "\n",
    "✨ *MATH = Making Algorithms Truly Hard (so hackers cry).*\n"
   ],
   "metadata": {
    "id": "XRugq0_P9pzS"
   }
  },
  {
   "cell_type": "code",
   "source": [
    "class CyclicGroup(Group):\n",
    "    def getOrder(self, a):\n",
    "        # Keep original contract\n",
    "        if a not in self.elements:\n",
    "            return \"Not an element.\"\n",
    "        a = a % self.modulus\n",
    "        accumulator = 1\n",
    "        k = 0\n",
    "        # Lagrange: order(a) divides |G|, so loop ≤ |G|\n",
    "        for _ in range(1, self.getCardinality() + 1):\n",
    "            accumulator = self.multiplicativeGroupOp(accumulator, a)\n",
    "            k += 1\n",
    "            if accumulator == 1:\n",
    "                return k\n",
    "        # Shouldn't happen for valid elements; keep style (no exceptions)\n",
    "        return None\n",
    "\n",
    "    def isCyclic(self):\n",
    "        for a in self.elements:\n",
    "            if self.getOrder(a) == self.getCardinality():\n",
    "                return True\n",
    "        return False\n",
    "\n",
    "    def findGenerators(self):\n",
    "        generators = []\n",
    "        for a in self.elements:\n",
    "            if self.getOrder(a) == self.getCardinality():\n",
    "                generators.append(a)\n",
    "        return generators\n",
    "\n",
    "    def generateSubgroups(self):\n",
    "        results = set()\n",
    "        generators = self.findGenerators()  # keep your original filtering\n",
    "        for a in self.elements:\n",
    "            if a not in generators:\n",
    "                ord_a = self.getOrder(a)\n",
    "                if isinstance(ord_a, int):\n",
    "                    # Build the subgroup ⟨a⟩ = {a^0, a^1, ..., a^{ord(a)-1}}\n",
    "                    sub = {pow(a, i, self.modulus) for i in range(ord_a)}\n",
    "                    # Stable string for de-dup (sorted to avoid set order randomness)\n",
    "                    results.add(str(sorted(sub)))\n",
    "        return results\n",
    "\n",
    "    def generateElements(self, generator):\n",
    "        # Return exactly ord(generator) elements; include 1 = generator^0\n",
    "        ord_g = self.getOrder(generator)\n",
    "        if ord_g == \"Not an element.\" or ord_g is None:\n",
    "            return \"Not an element.\"\n",
    "        return {pow(generator, i, self.modulus) for i in range(ord_g)}\n"
   ],
   "metadata": {
    "id": "N_J-Fh_E1Crk"
   },
   "execution_count": null,
   "outputs": []
  }
 ]
}