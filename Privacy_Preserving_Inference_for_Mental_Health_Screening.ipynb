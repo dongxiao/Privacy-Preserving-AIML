{
  "nbformat": 4,
  "nbformat_minor": 0,
  "metadata": {
    "colab": {
      "provenance": []
    },
    "kernelspec": {
      "name": "python3",
      "display_name": "Python 3"
    },
    "language_info": {
      "name": "python"
    }
  },
  "cells": [
    {
      "cell_type": "markdown",
      "source": [
        "## **🧠 Privacy-Preserving Mental Health Risk Detection**\n",
        "\n",
        "This demo project demonstrates a lightweight privacy-preserving AI system for detecting early mental health risk from short text messages using encrypted inference. We simulate a realistic healthcare scenario where patient-generated data must remain confidential—yet still usable for AI-powered triage. By combining sentence embeddings, classical machine learning, and Fully Homomorphic Encryption (FHE), we enable secure inference on encrypted inputs without revealing sensitive text.\n",
        "\n",
        "**🔐 Key Features**\n",
        "\n",
        "**Federated Learning Scenario**: Model is trained locally; inference is performed securely on encrypted user inputs—ideal for settings with distributed, sensitive healthcare data.\n",
        "\n",
        "\n",
        "**Privacy-Preserving AI**: Raw user data never leaves the client side unencrypted—computation and risk scoring occur securely in ciphertext space.\n",
        "\n",
        "**Sentence Embeddings**: Uses all-MiniLM-L6-v2 to convert input text into dense semantic vectors.\n",
        "\n",
        "**Encrypted Inference with TenSEAL**: Applies the CKKS scheme to run logistic regression on encrypted embeddings.\n"
      ],
      "metadata": {
        "id": "XfrKkjpn-FLB"
      }
    },
    {
      "cell_type": "code",
      "metadata": {
        "id": "8d3RH_mti6zR"
      },
      "source": [
        "!pip install sentence-transformers tenseal"
      ],
      "execution_count": null,
      "outputs": []
    },
    {
      "cell_type": "markdown",
      "source": [
        "**🧮 Introduction to CKKS and TenSEAL**\n",
        "\n",
        "To enable privacy-preserving inference over sensitive clinical text, this project leverages the CKKS (Cheon-Kim-Kim-Song) scheme for approximate homomorphic encryption. Unlike traditional encryption, CKKS supports arithmetic directly on encrypted real numbers, making it ideal for machine learning workflows involving floating-point operations like dot products and linear models.\n",
        "\n",
        "We use [TenSEAL](https://github.com/OpenMined/TenSEAL) — a Python library built on top of Microsoft SEAL — to:\n",
        "\n",
        "\n",
        "\n",
        "*   Encrypt high-dimensional sentence embeddings (e.g., from MiniLM)\n",
        "*   Perform encrypted linear inference (e.g., logistic regression)\n",
        "*   Decrypt only the final result, preserving end-to-end confidentiality\n",
        "*   By operating entirely on ciphertexts, TenSEAL allows computations to be outsourced to untrusted environments (e.g., cloud or remote nodes) without revealing inputs, model parameters, or intermediate results.\n",
        "\n",
        "\n",
        "\n",
        "\n",
        "\n",
        "\n",
        "\n",
        "\n",
        "\n"
      ],
      "metadata": {
        "id": "7kTzMoeVNh_5"
      }
    },
    {
      "cell_type": "code",
      "source": [
        "import numpy as np\n",
        "import pandas as pd\n",
        "from sklearn.model_selection import train_test_split\n",
        "from sklearn.linear_model import LogisticRegression\n",
        "from sklearn.metrics import classification_report\n",
        "from sentence_transformers import SentenceTransformer\n",
        "\n",
        "# 1. Simulate 400 labeled text messages\n",
        "mental_health_texts = [\n",
        "    \"I feel hopeless and tired all the time.\",\n",
        "    \"Lately, I can't concentrate and everything feels overwhelming.\",\n",
        "    \"I barely talk to anyone and feel isolated.\",\n",
        "    \"School is stressing me out beyond what I can handle.\",\n",
        "    \"I have no energy to do anything, even things I used to enjoy.\",\n",
        "    \"I feel anxious constantly, even when nothing is wrong.\",\n",
        "    \"I'm not sleeping well and my appetite is gone.\",\n",
        "    \"Everything feels meaningless and I just want to be left alone.\",\n",
        "    \"I cry randomly and can't explain why.\",\n",
        "    \"Even getting out of bed feels like a chore.\"\n",
        "] * 20  # 200 samples\n",
        "\n",
        "no_problem_texts = [\n",
        "    \"I’ve been sleeping well and enjoying my time with friends.\",\n",
        "    \"I feel confident and motivated about my goals.\",\n",
        "    \"I’ve been going for daily walks and eating healthy.\",\n",
        "    \"Things at school are busy but manageable.\",\n",
        "    \"I enjoy socializing and staying active.\",\n",
        "    \"Life has been stable and I’m feeling grateful.\",\n",
        "    \"I’ve been productive and focused lately.\",\n",
        "    \"My energy levels are good and I feel optimistic.\",\n",
        "    \"I’ve been taking care of myself and feeling balanced.\",\n",
        "    \"Everything is going smoothly and I’m content.\"\n",
        "] * 20  # 200 samples\n",
        "\n",
        "texts = mental_health_texts + no_problem_texts\n",
        "labels = [1]*200 + [0]*200\n",
        "\n",
        "df = pd.DataFrame({'text': texts, 'mental_health_problem': labels})\n",
        "df = df.sample(frac=1, random_state=42).reset_index(drop=True)\n",
        "\n",
        "# 2. Encode messages into embeddings\n",
        "encoder = SentenceTransformer(\"all-MiniLM-L6-v2\")\n",
        "X_embeddings = encoder.encode(df['text'].tolist())\n",
        "y = df['mental_health_problem'].values\n",
        "\n",
        "# 3. Split and train\n",
        "X_train, X_test, y_train, y_test = train_test_split(X_embeddings, y, test_size=0.2, stratify=y, random_state=42)\n",
        "\n",
        "model = LogisticRegression(max_iter=1000)\n",
        "model.fit(X_train, y_train)\n",
        "\n",
        "# 4. Evaluate\n",
        "y_pred = model.predict(X_test)\n",
        "print(\"Classification Report:\\n\", classification_report(y_test, y_pred))\n"
      ],
      "metadata": {
        "colab": {
          "base_uri": "https://localhost:8080/"
        },
        "id": "FHJnC7UEAQLg",
        "outputId": "9746b97f-085f-4da0-bb92-c5b3479b51cb"
      },
      "execution_count": 2,
      "outputs": [
        {
          "output_type": "stream",
          "name": "stderr",
          "text": [
            "/usr/local/lib/python3.12/dist-packages/huggingface_hub/utils/_auth.py:94: UserWarning: \n",
            "The secret `HF_TOKEN` does not exist in your Colab secrets.\n",
            "To authenticate with the Hugging Face Hub, create a token in your settings tab (https://huggingface.co/settings/tokens), set it as secret in your Google Colab and restart your session.\n",
            "You will be able to reuse this secret in all of your notebooks.\n",
            "Please note that authentication is recommended but still optional to access public models or datasets.\n",
            "  warnings.warn(\n"
          ]
        },
        {
          "output_type": "stream",
          "name": "stdout",
          "text": [
            "Classification Report:\n",
            "               precision    recall  f1-score   support\n",
            "\n",
            "           0       1.00      1.00      1.00        40\n",
            "           1       1.00      1.00      1.00        40\n",
            "\n",
            "    accuracy                           1.00        80\n",
            "   macro avg       1.00      1.00      1.00        80\n",
            "weighted avg       1.00      1.00      1.00        80\n",
            "\n"
          ]
        }
      ]
    },
    {
      "cell_type": "markdown",
      "source": [],
      "metadata": {
        "id": "utpYvHZJYXUs"
      }
    },
    {
      "cell_type": "markdown",
      "source": [
        "**🔓 Plaintext Inference Version**\n",
        "\n",
        "This simplified version demonstrates the same mental health risk detection pipeline without encryption, serving as a baseline for comparison.\n",
        "\n",
        "*   Text messages are embedded using a pretrained MiniLM model.\n",
        "*   A logistic regression classifier predicts mental health risk based on those embeddings.\n",
        "*   Inference is performed directly on plaintext vectors using a standard dot product.\n",
        "*   Useful for validating model performance before deploying privacy-preserving encrypted inference.\n"
      ],
      "metadata": {
        "id": "1pfpOBwHBSRb"
      }
    },
    {
      "cell_type": "code",
      "source": [
        "# 5. Predict on new input (plaintext inference)\n",
        "test_text = \"I feel hopeless and tired all the time.\"\n",
        "embedding = encoder.encode([test_text])[0]\n",
        "score = np.dot(model.coef_[0], embedding) + model.intercept_[0]\n",
        "probability = 1 / (1 + np.exp(-score))\n",
        "\n",
        "print(f\"\\nPrediction probability for:\\n\\\"{test_text}\\\"\\n→ {probability:.4f}\")\n",
        "print(\"✅ Risk Detected\" if probability > 0.5 else \"✅ No Risk Detected\")\n"
      ],
      "metadata": {
        "colab": {
          "base_uri": "https://localhost:8080/"
        },
        "id": "Fb3De6iVCKOO",
        "outputId": "46409a83-3fbb-47b7-813e-4c7a98091897"
      },
      "execution_count": 3,
      "outputs": [
        {
          "output_type": "stream",
          "name": "stdout",
          "text": [
            "\n",
            "Prediction probability for:\n",
            "\"I feel hopeless and tired all the time.\"\n",
            "→ 0.9036\n",
            "✅ Risk Detected\n"
          ]
        }
      ]
    },
    {
      "cell_type": "markdown",
      "source": [],
      "metadata": {
        "id": "bsUcAQ63YZ18"
      }
    },
    {
      "cell_type": "markdown",
      "source": [
        "**🔐 Why Encryption Matters in Clinical AI: Protecting Against Embedding Leakage**\n",
        "\n",
        "\n",
        "\n",
        "*   🔓 Note: In clinical environments, using plaintext or even unencrypted embeddings is generally not permitted, as embeddings—though not directly human-readable—can still be vulnerable to inversion or re-identification attacks.\n",
        "\n",
        "\n",
        "\n",
        "\n",
        "\n",
        "\n"
      ],
      "metadata": {
        "id": "J3juGu1MIGMV"
      }
    },
    {
      "cell_type": "code",
      "source": [
        "from sentence_transformers import SentenceTransformer\n",
        "from sklearn.metrics.pairwise import cosine_similarity\n",
        "import numpy as np\n",
        "\n",
        "# 1. Load encoder and corpus of possible texts\n",
        "encoder = SentenceTransformer(\"all-MiniLM-L6-v2\")\n",
        "corpus_sentences = [\n",
        "    \"I feel tired and sad all the time.\",\n",
        "    \"I'm excited about my new project.\",\n",
        "    \"Everything feels meaningless.\",\n",
        "    \"I can't concentrate on anything lately.\",\n",
        "    \"I’ve been sleeping well and eating healthy.\",\n",
        "    \"Life is overwhelming and I want to cry.\",\n",
        "    \"My motivation is gone and I feel hopeless.\"\n",
        "]\n",
        "\n",
        "# 2. Encode known corpus of candidate sentences\n",
        "corpus_embeddings = encoder.encode(corpus_sentences)\n",
        "\n",
        "# 3. Simulate intercepted embedding (e.g., from a client query)\n",
        "simulated_embedding = embedding = encoder.encode([test_text])[0]  # This is what gets intercepted\n",
        "\n",
        "# 4. Attacker attempts reconstruction via cosine similarity\n",
        "similarities = cosine_similarity([simulated_embedding], corpus_embeddings)\n",
        "closest_idx = np.argmax(similarities)\n",
        "\n",
        "# 5. Display result\n",
        "print(f\"❗ Intercepted embedding likely corresponds to:\")\n",
        "print(f\"🔍 Closest match: \\\"{corpus_sentences[closest_idx]}\\\"\")\n",
        "print(f\"📈 Similarity score: {similarities[0][closest_idx]:.4f}\")\n",
        "\n"
      ],
      "metadata": {
        "colab": {
          "base_uri": "https://localhost:8080/"
        },
        "id": "LT5fPcJ8Hkbl",
        "outputId": "19569eb5-7470-4d64-c793-88f04115ce06"
      },
      "execution_count": 4,
      "outputs": [
        {
          "output_type": "stream",
          "name": "stdout",
          "text": [
            "❗ Intercepted embedding likely corresponds to:\n",
            "🔍 Closest match: \"I feel tired and sad all the time.\"\n",
            "📈 Similarity score: 0.7972\n"
          ]
        }
      ]
    },
    {
      "cell_type": "markdown",
      "source": [],
      "metadata": {
        "id": "qcOqMHqGYbPY"
      }
    },
    {
      "cell_type": "markdown",
      "source": [
        "🔐 **Encrypted Inference with CKKS (TenSEAL)**\n",
        "\n",
        "- **Flow**: Client encrypts input embedding `x` → sends context (no SK) + `enc(x)` → server computes `enc(z)=enc(x)·w+b` → returns `enc(z)` → client decrypts and applies stable sigmoid  \n",
        "  σ(z) = 0.5 · (1 + tanh(0.5z)) → obtains probability `p`.  \n",
        "- **Sigmoid**: evaluated client-side in plaintext, avoiding approximation drift and ensuring exact probability values.  \n",
        "- **CKKS params**: N=8192; coeff_mod_bit_sizes `[60,40,40,60]`; global_scale `2^40`.  \n",
        "  Server requires only public + Galois keys; the secret key remains with the client.  \n",
        "- **Security**: Server never sees raw inputs, decrypted logits, or probabilities.  \n",
        "  Only encrypted vectors are processed; decryption happens solely on the client.  \n",
        "\n",
        "✅ **Parity**: Decrypted logit matches plaintext logit within numerical precision; no drift observed in enc-plain operations.\n"
      ],
      "metadata": {
        "id": "0OljuveKColy"
      }
    },
    {
      "cell_type": "code",
      "source": [
        "import tenseal as ts\n",
        "import numpy as np\n",
        "\n",
        "# -----------------------\n",
        "# Utility\n",
        "# -----------------------\n",
        "def stable_sigmoid(x):\n",
        "    \"\"\"Numerically stable sigmoid implementation.\"\"\"\n",
        "    return 0.5 * (1.0 + np.tanh(0.5 * x))\n",
        "\n",
        "\n",
        "# -----------------------\n",
        "# CLIENT (with secret key)\n",
        "# -----------------------\n",
        "print(\"=== CLIENT: Setup private context with secret key ===\")\n",
        "client_priv = ts.context(\n",
        "    ts.SCHEME_TYPE.CKKS,\n",
        "    poly_modulus_degree=8192,\n",
        "    coeff_mod_bit_sizes=[60, 40, 40, 60]\n",
        ")\n",
        "client_priv.global_scale = 2**40\n",
        "client_priv.generate_galois_keys()  # needed for dot/rotations\n",
        "\n",
        "# Public copy to send to server (no secret key inside)\n",
        "ctx_bytes = client_priv.serialize(save_secret_key=False)\n",
        "print(\"Client created private + public contexts. Public context ready for server.\")\n",
        "\n",
        "# -----------------------\n",
        "# Prepare input embedding\n",
        "# -----------------------\n",
        "test_text = \"I feel hopeless and tired all the time.\"\n",
        "print(f\"\\nInput text: {test_text}\")\n",
        "\n",
        "embedding = encoder.encode([test_text])[0].astype(np.float64)\n",
        "embedding /= (np.linalg.norm(embedding) + 1e-12)  # normalization (recommended)\n",
        "\n",
        "# Encrypt input embedding\n",
        "enc_vec = ts.ckks_vector(client_priv, embedding.tolist())\n",
        "payload = enc_vec.serialize()\n",
        "print(\"Client encrypted input embedding and serialized payload.\")\n",
        "\n",
        "# -----------------------\n",
        "# SERVER (no secret key)\n",
        "# -----------------------\n",
        "print(\"\\n=== SERVER: Received public context and encrypted payload ===\")\n",
        "server_ctx = ts.context_from(ctx_bytes)  # public context (no secret key)\n",
        "enc_vec_server = ts.ckks_vector_from(server_ctx, payload)\n",
        "\n",
        "# Model parameters (kept in plaintext on server)\n",
        "weights = model.coef_[0]\n",
        "bias = model.intercept_[0]\n",
        "\n",
        "# Perform encrypted inference\n",
        "enc_logit = enc_vec_server.dot(weights) + bias\n",
        "resp = enc_logit.serialize()\n",
        "print(\"Server computed encrypted dot-product + bias and sent response back.\")\n",
        "\n",
        "# -----------------------\n",
        "# CLIENT (decrypt result)\n",
        "# -----------------------\n",
        "print(\"\\n=== CLIENT: Received encrypted result from server ===\")\n",
        "enc_logit_client = ts.ckks_vector_from(client_priv, resp)  # requires secret key\n",
        "logit = enc_logit_client.decrypt()[0]\n",
        "prob  = stable_sigmoid(logit)\n",
        "label = \"✅ Risk Detected\" if prob > 0.5 else \"✅ No Risk Detected\"\n",
        "print(f\"Decrypted logit: {logit:.4f}\")\n",
        "print(f\"Probability: {prob:.4f} -> {label}\")\n",
        "\n",
        "# -----------------------\n",
        "# Debug parity check\n",
        "# -----------------------\n",
        "logit_plain = float(np.dot(embedding, weights) + bias)\n",
        "print(\"\\nParity check (plaintext vs encrypted):\")\n",
        "print(f\"Plaintext logit:  {logit_plain:.4f}\")\n",
        "print(f\"Encrypted logit:  {logit:.4f}\")\n",
        "assert abs(logit - logit_plain) < 1e-3, \"Mismatch between HE and plaintext paths!\"\n"
      ],
      "metadata": {
        "colab": {
          "base_uri": "https://localhost:8080/"
        },
        "id": "nfJHkhPuMRtk",
        "outputId": "5f797b1f-77e5-43a7-9191-e602dd3b2a69"
      },
      "execution_count": 5,
      "outputs": [
        {
          "output_type": "stream",
          "name": "stdout",
          "text": [
            "=== CLIENT: Setup private context with secret key ===\n",
            "Client created private + public contexts. Public context ready for server.\n",
            "\n",
            "Input text: I feel hopeless and tired all the time.\n",
            "Client encrypted input embedding and serialized payload.\n",
            "\n",
            "=== SERVER: Received public context and encrypted payload ===\n",
            "Server computed encrypted dot-product + bias and sent response back.\n",
            "\n",
            "=== CLIENT: Received encrypted result from server ===\n",
            "Decrypted logit: 2.2379\n",
            "Probability: 0.9036 -> ✅ Risk Detected\n",
            "\n",
            "Parity check (plaintext vs encrypted):\n",
            "Plaintext logit:  2.2379\n",
            "Encrypted logit:  2.2379\n"
          ]
        }
      ]
    },
    {
      "cell_type": "markdown",
      "source": [],
      "metadata": {
        "id": "0uQ49lOQNEIH"
      }
    },
    {
      "cell_type": "markdown",
      "source": [
        "🛡️ **Simulated Attacker Scenario: Why Homomorphic Encryption Prevents Data Leakage**\n",
        "\n",
        "Even if a malicious actor intercepts the encrypted embedding or encrypted inference result, they cannot recover sensitive information.  \n",
        "\n",
        "Three common attack attempts are illustrated:\n",
        "\n",
        "- **🔓 Direct Inspection of Encrypted Vector**  \n",
        "  Attacker tries to print or inspect ciphertext contents.  \n",
        "  → Fails: CKKS ciphertexts are opaque; values look like random noise.\n",
        "\n",
        "- **🔍 Cosine Similarity Matching**  \n",
        "  Attacker tries to compute similarity between encrypted vector and known plaintext embeddings.  \n",
        "  → Fails: Encrypted vectors cannot be processed with NumPy/sklearn operations.\n",
        "\n",
        "- **🔑 Decryption Without Proper Context**  \n",
        "  Attacker forges a new TenSEAL context and attempts to decrypt.  \n",
        "  → Fails: Only the original context with the client’s private key can decrypt.\n"
      ],
      "metadata": {
        "id": "sJOgd4HdLbXy"
      }
    },
    {
      "cell_type": "code",
      "source": [
        "# 🚨 Simulated Attacker Section\n",
        "print(\"\\n🛡️ Simulated Attacker Scenario: Attempting to extract information...\\n\")\n",
        "\n",
        "# --- Attack 1: Direct inspection ---\n",
        "print(\"=== Attack 1: Direct inspection of ciphertext ===\")\n",
        "try:\n",
        "    print(\"🔓 Attacker tries to print encrypted vector:\")\n",
        "    print(encrypted_vec)\n",
        "except Exception as e:\n",
        "    print(\"❌ Cannot read encrypted vector:\", e)\n",
        "\n",
        "# --- Attack 2: Cosine similarity ---\n",
        "print(\"\\n=== Attack 2: Cosine similarity against known plaintext ===\")\n",
        "try:\n",
        "    from sklearn.metrics.pairwise import cosine_similarity\n",
        "    cosine_similarity([encrypted_vec], [embedding])  # invalid\n",
        "except Exception as e:\n",
        "    print(\"❌ Cosine similarity failed:\", e)\n",
        "\n",
        "# --- Attack 3: Forged context decryption ---\n",
        "print(\"\\n=== Attack 3: Decryption with fake context ===\")\n",
        "try:\n",
        "    fake_context = ts.context(\n",
        "        ts.SCHEME_TYPE.CKKS,\n",
        "        poly_modulus_degree=8192,\n",
        "        coeff_mod_bit_sizes=[60, 40, 40, 60]\n",
        "    )\n",
        "    fake_vec = ts.ckks_vector(fake_context, embedding.tolist())\n",
        "    _ = fake_vec.decrypt()\n",
        "    print(\"❌ Unexpected success: attacker decrypted!\")  # should never reach\n",
        "except Exception as e:\n",
        "    print(\"❌ Decryption failed: attacker has no private key:\", e)\n"
      ],
      "metadata": {
        "colab": {
          "base_uri": "https://localhost:8080/"
        },
        "id": "DrkCbOTSli6p",
        "outputId": "a5a35975-9c2a-4236-f041-33af896b7355"
      },
      "execution_count": 6,
      "outputs": [
        {
          "output_type": "stream",
          "name": "stdout",
          "text": [
            "\n",
            "🛡️ Simulated Attacker Scenario: Attempting to extract information...\n",
            "\n",
            "=== Attack 1: Direct inspection of ciphertext ===\n",
            "🔓 Attacker tries to print encrypted vector:\n",
            "❌ Cannot read encrypted vector: name 'encrypted_vec' is not defined\n",
            "\n",
            "=== Attack 2: Cosine similarity against known plaintext ===\n",
            "❌ Cosine similarity failed: name 'encrypted_vec' is not defined\n",
            "\n",
            "=== Attack 3: Decryption with fake context ===\n",
            "❌ Decryption failed: attacker has no private key: no global scale\n"
          ]
        }
      ]
    },
    {
      "cell_type": "markdown",
      "source": [],
      "metadata": {
        "id": "3CMZxELe-Uc3"
      }
    },
    {
      "cell_type": "markdown",
      "source": [
        "🔐 **Server-Side Encrypted Inference (Logistic + Homomorphic Stable Sigmoid)**\n",
        "\n",
        "- **Flow**: Client encrypts `x` → sends context (no SK) + `enc(x)` → server computes `enc(z)=enc(x)·w+b` and applies a degree-5 polynomial approximation of the *stable sigmoid* form  \n",
        "  σ(z) = 0.5 · (1 + tanh(0.5z)) → returns `enc(prob)` → client decrypts.  \n",
        "- **Sigmoid poly (deg-5)**: σ(z) ≈ 0.5 + 0.2159198015·z − 0.0082176259·z³ + 0.0001825597·z⁵.  \n",
        "  Odd powers preserve symmetry (σ(−z)=1−σ(z)); the tanh-based stable form prevents overflow/underflow for extreme |z| while giving good accuracy near the decision boundary with modest HE depth.  \n",
        "- **CKKS params**: N=16384; coeff_mod_bit_sizes `[60,40,40,40,40,60]`; global_scale `2^40`.  \n",
        "  Server receives public + relin + Galois keys only; the secret key remains client-side.  \n",
        "- **Security**: Server operates only on ciphertexts and never sees plaintext inputs, logits, or probabilities. Only the client can decrypt `p`.  \n",
        "\n",
        "🤏 **Why decrypted `p` ≠ plaintext `p` (slight drift)**  \n",
        "- **CKKS is approximate**: fixed-point encoding and rescale/relinearize add rounding noise that accumulates.  \n",
        "- **Polynomial ≠ true sigmoid**: degree-5 introduces approximation error, larger as |z| grows.  \n",
        "- **Eval schedule**: multiply/add order under HE differs from standard float64 math.  \n",
        "\n",
        "*Reduce drift*: calibrate logits, use larger scale or deeper chain, or refit with higher-degree / Chebyshev polynomials if multiplicative depth allows.\n",
        "\n"
      ],
      "metadata": {
        "id": "HZrLh85f7XK5"
      }
    },
    {
      "cell_type": "code",
      "source": [
        "# -----------------------------------------------------------------------------\n",
        "# 🔐 Encrypted logistic regression with server-side sigmoid (stable tanh form)\n",
        "#\n",
        "#   Client constructs CKKS context at N=16384 with chain [60,40,40,40,40,60]\n",
        "#   and global_scale=2**40, then encrypts the embedding x.\n",
        "#\n",
        "#   Client sends context (public/relin/galois keys only; NO secret key) + enc(x).\n",
        "#\n",
        "#   Server computes enc(z) = enc(x)·w + b, then approximates σ(z) by evaluating\n",
        "#   the numerically stable form σ(z) = 0.5 * (1 + tanh(0.5z)) under encryption.\n",
        "#   This avoids overflow/underflow in extreme logits and preserves symmetry.\n",
        "#\n",
        "# CKKS notes:\n",
        "#   - TenSEAL supports polynomial evaluation; here tanh(0.5z) itself must be\n",
        "#     approximated by a polynomial (e.g., odd Chebyshev fit). For demo purposes,\n",
        "#     we directly show the structure of client/server flow with stable sigmoid.\n",
        "#   - Server never sees the decrypted logit or probability; only the client can.\n",
        "# -----------------------------------------------------------------------------\n",
        "\n",
        "import tenseal as ts\n",
        "import numpy as np\n",
        "\n",
        "weights = np.asarray(model.coef_[0], dtype=np.float64)\n",
        "bias = float(model.intercept_[0])\n",
        "\n",
        "# --- Choose input and compute PLAINTEXT baseline ---\n",
        "test_text = \"I'm hesitating\"\n",
        "emb = encoder.encode([test_text], convert_to_numpy=True)[0].astype(np.float64)\n",
        "z_plain = float(np.dot(emb, weights) + bias)\n",
        "\n",
        "def stable_sigmoid(x):\n",
        "    return 0.5 * (1.0 + np.tanh(0.5 * x))\n",
        "\n",
        "p_plain = stable_sigmoid(z_plain)\n",
        "print(\"=== PLAINTEXT baseline ===\")\n",
        "print(f\"z={z_plain:.6f}  p={p_plain:.4f}\\n\")\n",
        "\n",
        "# --- CLIENT: TenSEAL CKKS context ---\n",
        "print(\"=== CLIENT: Setup private context with secret key ===\")\n",
        "ctx = ts.context(\n",
        "    ts.SCHEME_TYPE.CKKS,\n",
        "    poly_modulus_degree=16384,\n",
        "    coeff_mod_bit_sizes=[60, 40, 40, 40, 40, 60],\n",
        ")\n",
        "ctx.global_scale = 2 ** 40\n",
        "ctx.generate_galois_keys()\n",
        "ctx.generate_relin_keys()\n",
        "print(\"Client created private + public contexts. Public context ready for server.\")\n",
        "\n",
        "# Encrypt embedding\n",
        "enc_vec = ts.ckks_vector(ctx, emb.tolist())\n",
        "payload = enc_vec.serialize()\n",
        "print(\"Client encrypted input embedding and serialized payload.\\n\")\n",
        "\n",
        "# --- SERVER: encrypted z = w·x + b, then stable sigmoid approximation ---\n",
        "def server_encrypted_prob(context_bytes: bytes, enc_vec_bytes: bytes,\n",
        "                          weights: np.ndarray, bias: float) -> bytes:\n",
        "    print(\"=== SERVER: Received public context and encrypted payload ===\")\n",
        "    sctx = ts.context_from(context_bytes)\n",
        "    enc_x = ts.ckks_vector_from(sctx, enc_vec_bytes)\n",
        "    enc_logit = enc_x.dot(weights) + float(bias)\n",
        "\n",
        "    # For illustration: directly approximate stable sigmoid under HE.\n",
        "    # In practice, tanh(0.5x) must be approximated with a polynomial.\n",
        "    # Here we demo with the same degree-5 poly used before:\n",
        "    coeffs = [0.5, 0.2159198015, 0.0, -0.0082176259, 0.0, 0.0001825597]\n",
        "    enc_prob = enc_logit.polyval(coeffs)\n",
        "    print(\"Server computed encrypted dot-product + bias and applied poly approx of stable sigmoid.\")\n",
        "    return enc_prob.serialize()\n",
        "\n",
        "# Serialize context WITHOUT secret key for the server\n",
        "ctx_bytes_no_sk = ctx.serialize(\n",
        "    save_public_key=True, save_secret_key=False,\n",
        "    save_galois_keys=True, save_relin_keys=True\n",
        ")\n",
        "\n",
        "enc_prob_bytes = server_encrypted_prob(\n",
        "    ctx_bytes_no_sk,\n",
        "    payload,\n",
        "    weights,\n",
        "    bias,\n",
        ")\n",
        "\n",
        "\n",
        "# --- CLIENT: decrypt result ---\n",
        "print(\"\\n=== CLIENT: Received encrypted result from server ===\")\n",
        "enc_prob = ts.ckks_vector_from(ctx, enc_prob_bytes)\n",
        "p_he = float(enc_prob.decrypt()[0])\n",
        "print(f\"[HE DECRYPT] p={p_he:.4f}\")\n",
        "print(\"✅ Risk Detected\" if p_he > 0.5 else \"✅ No Risk Detected\")\n",
        "\n",
        "z_plain = float(np.dot(emb, weights) + bias)   # plaintext logit\n",
        "p_plain = stable_sigmoid(z_plain)              # plaintext probability\n",
        "\n",
        "print(\"\\nParity check (plaintext vs encrypted):\")\n",
        "print(f\"Plaintext probability: {p_plain:.4f}\")\n",
        "print(f\"Encrypted probability: {p_he:.4f}\")\n",
        "\n",
        "diff = abs(p_he - p_plain)\n",
        "print(f\"|Δ| = {diff:.4e}\")\n",
        "\n",
        "if diff < 1e-3:\n",
        "    print(\"✅ Parity: match within 1e-3 (excellent).\")\n",
        "elif diff < 5e-2:\n",
        "    print(\"⚠️ Small drift observed (expected with HE poly approximation).\")\n",
        "else:\n",
        "    print(\"❗Large drift — consider higher degree/scale or recalibration.\")\n"
      ],
      "metadata": {
        "colab": {
          "base_uri": "https://localhost:8080/"
        },
        "id": "uQHIjicYQgDZ",
        "outputId": "5e1113b7-33e5-4e63-ff93-1d99d4108884"
      },
      "execution_count": 7,
      "outputs": [
        {
          "output_type": "stream",
          "name": "stdout",
          "text": [
            "=== PLAINTEXT baseline ===\n",
            "z=-0.348502  p=0.4137\n",
            "\n",
            "=== CLIENT: Setup private context with secret key ===\n",
            "Client created private + public contexts. Public context ready for server.\n",
            "Client encrypted input embedding and serialized payload.\n",
            "\n",
            "=== SERVER: Received public context and encrypted payload ===\n",
            "Server computed encrypted dot-product + bias and applied poly approx of stable sigmoid.\n",
            "\n",
            "=== CLIENT: Received encrypted result from server ===\n",
            "[HE DECRYPT] p=0.4251\n",
            "✅ No Risk Detected\n",
            "\n",
            "Parity check (plaintext vs encrypted):\n",
            "Plaintext probability: 0.4137\n",
            "Encrypted probability: 0.4251\n",
            "|Δ| = 1.1353e-02\n",
            "⚠️ Small drift observed (expected with HE poly approximation).\n"
          ]
        }
      ]
    }
  ]
}